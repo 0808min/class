{
 "cells": [
  {
   "cell_type": "code",
   "execution_count": 40,
   "id": "85805c65",
   "metadata": {},
   "outputs": [
    {
     "name": "stdout",
     "output_type": "stream",
     "text": [
      "<class 'pandas.core.frame.DataFrame'>\n"
     ]
    }
   ],
   "source": [
    "# pandas 이용해서 데이터 불러오기\n",
    "import pandas as pd\n",
    "\n",
    "result = pd.read_csv('201312.csv', encoding='cp949')\n",
    "print(type(result))"
   ]
  },
  {
   "cell_type": "code",
   "execution_count": 41,
   "id": "ab246d18",
   "metadata": {},
   "outputs": [
    {
     "name": "stdout",
     "output_type": "stream",
     "text": [
      "Index(['행정구역', '2013년_총인구수', '2013년_세대수', '2013년_세대당 인구', '2013년_남자 인구수',\n",
      "       '2013년_여자 인구수', '2013년_남여 비율', '2014년_총인구수', '2014년_세대수',\n",
      "       '2014년_세대당 인구', '2014년_남자 인구수', '2014년_여자 인구수', '2014년_남여 비율',\n",
      "       '2015년_총인구수', '2015년_세대수', '2015년_세대당 인구', '2015년_남자 인구수',\n",
      "       '2015년_여자 인구수', '2015년_남여 비율', '2016년_총인구수', '2016년_세대수',\n",
      "       '2016년_세대당 인구', '2016년_남자 인구수', '2016년_여자 인구수', '2016년_남여 비율',\n",
      "       '2017년_총인구수', '2017년_세대수', '2017년_세대당 인구', '2017년_남자 인구수',\n",
      "       '2017년_여자 인구수', '2017년_남여 비율', '2018년_총인구수', '2018년_세대수',\n",
      "       '2018년_세대당 인구', '2018년_남자 인구수', '2018년_여자 인구수', '2018년_남여 비율',\n",
      "       '2019년_총인구수', '2019년_세대수', '2019년_세대당 인구', '2019년_남자 인구수',\n",
      "       '2019년_여자 인구수', '2019년_남여 비율', '2020년_총인구수', '2020년_세대수',\n",
      "       '2020년_세대당 인구', '2020년_남자 인구수', '2020년_여자 인구수', '2020년_남여 비율',\n",
      "       '2021년_총인구수', '2021년_세대수', '2021년_세대당 인구', '2021년_남자 인구수',\n",
      "       '2021년_여자 인구수', '2021년_남여 비율', '2022년_총인구수', '2022년_세대수',\n",
      "       '2022년_세대당 인구', '2022년_남자 인구수', '2022년_여자 인구수', '2022년_남여 비율'],\n",
      "      dtype='object')\n"
     ]
    }
   ],
   "source": [
    "print(result.columns)"
   ]
  },
  {
   "cell_type": "code",
   "execution_count": 42,
   "id": "af88e4b5",
   "metadata": {},
   "outputs": [
    {
     "name": "stdout",
     "output_type": "stream",
     "text": [
      "61\n"
     ]
    }
   ],
   "source": [
    "print(len(result.columns))"
   ]
  },
  {
   "cell_type": "code",
   "execution_count": 43,
   "id": "64549f2a",
   "metadata": {},
   "outputs": [
    {
     "name": "stdout",
     "output_type": "stream",
     "text": [
      "2013년_총인구수\n",
      "2014년_총인구수\n",
      "2015년_총인구수\n",
      "2016년_총인구수\n",
      "2017년_총인구수\n",
      "2018년_총인구수\n",
      "2019년_총인구수\n",
      "2020년_총인구수\n",
      "2021년_총인구수\n",
      "2022년_총인구수\n"
     ]
    }
   ],
   "source": [
    "for i in range(1, 61, 6) :\n",
    "    print(result.columns[i])"
   ]
  },
  {
   "cell_type": "code",
   "execution_count": 44,
   "id": "4e53416a",
   "metadata": {},
   "outputs": [
    {
     "name": "stdout",
     "output_type": "stream",
     "text": [
      "서울특별시 강동구 (1174000000)\n"
     ]
    }
   ],
   "source": [
    "# 행단위 데이터 확인\n",
    "print(result.iloc[25, 0])"
   ]
  },
  {
   "cell_type": "code",
   "execution_count": 45,
   "id": "3f6dbd48",
   "metadata": {},
   "outputs": [
    {
     "name": "stdout",
     "output_type": "stream",
     "text": [
      "행정구역           서울특별시 강동구 (1174000000)\n",
      "2013년_남여 비율                       1.0\n",
      "2014년_남여 비율                       1.0\n",
      "2015년_남여 비율                      0.99\n",
      "2016년_남여 비율                      0.99\n",
      "2017년_남여 비율                      0.99\n",
      "2018년_남여 비율                      0.98\n",
      "2019년_남여 비율                      0.98\n",
      "2020년_남여 비율                      0.97\n",
      "2021년_남여 비율                      0.96\n",
      "2022년_남여 비율                      0.96\n",
      "Name: 25, dtype: object\n"
     ]
    }
   ],
   "source": [
    "print(result.iloc[25, range(0, len(result.columns), 6)])"
   ]
  },
  {
   "cell_type": "code",
   "execution_count": 47,
   "id": "1da78e11",
   "metadata": {},
   "outputs": [
    {
     "data": {
      "image/png": "[encoded data removed]",
      "text/plain": [
       "<Figure size 640x480 with 1 Axes>"
      ]
     },
     "metadata": {},
     "output_type": "display_data"
    }
   ],
   "source": [
    "import pandas as pd\n",
    "import matplotlib.pyplot as plt\n",
    "\n",
    "result = pd.read_csv('201312.csv', encoding='cp949')\n",
    "\n",
    "# 시각화에 필요한 데이터 셑\n",
    "data = {}\n",
    "    \n",
    "# {'' : []}\n",
    "\n",
    "for i in range(1, len(result)) :\n",
    "    data[result.iloc[i, 0]] = result.iloc[i, range(1, len(result.columns), 6)]\n",
    "    \n",
    "    \n",
    "# 시각화 처리 \n",
    "plt.ylim([450000, 490000])\n",
    "\n",
    "loc = '서울특별시 강동구 (1174000000)'\n",
    "\n",
    "for i in range(len(data[loc])) :\n",
    "    # str -> ',' 를 제거 -> 문자를 숫자 타입으로 변경\n",
    "    data[loc][i] = int(data[loc][i].replace(',', ''))\n",
    "    plt.bar(data[loc].index[i].split('년_')[0], data[loc][i])\n",
    "    \n",
    "plt.show()"
   ]
  },
  {
   "cell_type": "code",
   "execution_count": 37,
   "id": "8d13ed0a",
   "metadata": {},
   "outputs": [
    {
     "name": "stdout",
     "output_type": "stream",
     "text": [
      "{'서울특별시 송파구 (1171000000)': 행정구역           서울특별시 송파구 (1171000000)\n",
      "2013년_남여 비율                      0.96\n",
      "2014년_남여 비율                      0.96\n",
      "2015년_남여 비율                      0.95\n",
      "2016년_남여 비율                      0.95\n",
      "2017년_남여 비율                      0.95\n",
      "2018년_남여 비율                      0.94\n",
      "2019년_남여 비율                      0.94\n",
      "2020년_남여 비율                      0.93\n",
      "2021년_남여 비율                      0.93\n",
      "2022년_남여 비율                      0.93\n",
      "Name: 1, dtype: object, '서울특별시 강남구 (1168000000)': 행정구역           서울특별시 강남구 (1168000000)\n",
      "2013년_남여 비율                      0.92\n",
      "2014년_남여 비율                      0.92\n",
      "2015년_남여 비율                      0.92\n",
      "2016년_남여 비율                      0.92\n",
      "2017년_남여 비율                      0.92\n",
      "2018년_남여 비율                      0.92\n",
      "2019년_남여 비율                      0.92\n",
      "2020년_남여 비율                      0.92\n",
      "2021년_남여 비율                      0.92\n",
      "2022년_남여 비율                      0.92\n",
      "Name: 2, dtype: object, '서울특별시 서초구 (1165000000)': 행정구역           서울특별시 서초구 (1165000000)\n",
      "2013년_남여 비율                      0.93\n",
      "2014년_남여 비율                      0.93\n",
      "2015년_남여 비율                      0.93\n",
      "2016년_남여 비율                      0.92\n",
      "2017년_남여 비율                      0.92\n",
      "2018년_남여 비율                      0.92\n",
      "2019년_남여 비율                      0.92\n",
      "2020년_남여 비율                      0.92\n",
      "2021년_남여 비율                      0.92\n",
      "2022년_남여 비율                      0.91\n",
      "Name: 3, dtype: object, '서울특별시 관악구 (1162000000)': 행정구역           서울특별시 관악구 (1162000000)\n",
      "2013년_남여 비율                      1.03\n",
      "2014년_남여 비율                      1.02\n",
      "2015년_남여 비율                      1.02\n",
      "2016년_남여 비율                      1.02\n",
      "2017년_남여 비율                      1.02\n",
      "2018년_남여 비율                      1.01\n",
      "2019년_남여 비율                      1.01\n",
      "2020년_남여 비율                      1.01\n",
      "2021년_남여 비율                      1.01\n",
      "2022년_남여 비율                      1.01\n",
      "Name: 4, dtype: object, '서울특별시 동작구 (1159000000)': 행정구역           서울특별시 동작구 (1159000000)\n",
      "2013년_남여 비율                      0.97\n",
      "2014년_남여 비율                      0.97\n",
      "2015년_남여 비율                      0.96\n",
      "2016년_남여 비율                      0.96\n",
      "2017년_남여 비율                      0.95\n",
      "2018년_남여 비율                      0.95\n",
      "2019년_남여 비율                      0.94\n",
      "2020년_남여 비율                      0.94\n",
      "2021년_남여 비율                      0.94\n",
      "2022년_남여 비율                      0.94\n",
      "Name: 5, dtype: object, '서울특별시 영등포구 (1156000000)': 행정구역           서울특별시 영등포구 (1156000000)\n",
      "2013년_남여 비율                       1.01\n",
      "2014년_남여 비율                        1.0\n",
      "2015년_남여 비율                        1.0\n",
      "2016년_남여 비율                        1.0\n",
      "2017년_남여 비율                        1.0\n",
      "2018년_남여 비율                       0.99\n",
      "2019년_남여 비율                       0.98\n",
      "2020년_남여 비율                       0.98\n",
      "2021년_남여 비율                       0.97\n",
      "2022년_남여 비율                       0.97\n",
      "Name: 6, dtype: object, '서울특별시 금천구 (1154500000)': 행정구역           서울특별시 금천구 (1154500000)\n",
      "2013년_남여 비율                      1.05\n",
      "2014년_남여 비율                      1.05\n",
      "2015년_남여 비율                      1.04\n",
      "2016년_남여 비율                      1.04\n",
      "2017년_남여 비율                      1.03\n",
      "2018년_남여 비율                      1.03\n",
      "2019년_남여 비율                      1.03\n",
      "2020년_남여 비율                      1.02\n",
      "2021년_남여 비율                      1.02\n",
      "2022년_남여 비율                      1.02\n",
      "Name: 7, dtype: object, '서울특별시 구로구 (1153000000)': 행정구역           서울특별시 구로구 (1153000000)\n",
      "2013년_남여 비율                      1.01\n",
      "2014년_남여 비율                       1.0\n",
      "2015년_남여 비율                      0.99\n",
      "2016년_남여 비율                      0.99\n",
      "2017년_남여 비율                      0.99\n",
      "2018년_남여 비율                      0.98\n",
      "2019년_남여 비율                      0.98\n",
      "2020년_남여 비율                      0.98\n",
      "2021년_남여 비율                      0.97\n",
      "2022년_남여 비율                      0.97\n",
      "Name: 8, dtype: object, '서울특별시 강서구 (1150000000)': 행정구역           서울특별시 강서구 (1150000000)\n",
      "2013년_남여 비율                      0.96\n",
      "2014년_남여 비율                      0.96\n",
      "2015년_남여 비율                      0.96\n",
      "2016년_남여 비율                      0.95\n",
      "2017년_남여 비율                      0.95\n",
      "2018년_남여 비율                      0.95\n",
      "2019년_남여 비율                      0.94\n",
      "2020년_남여 비율                      0.93\n",
      "2021년_남여 비율                      0.93\n",
      "2022년_남여 비율                      0.92\n",
      "Name: 9, dtype: object, '서울특별시 양천구 (1147000000)': 행정구역           서울특별시 양천구 (1147000000)\n",
      "2013년_남여 비율                      0.99\n",
      "2014년_남여 비율                      0.98\n",
      "2015년_남여 비율                      0.98\n",
      "2016년_남여 비율                      0.98\n",
      "2017년_남여 비율                      0.97\n",
      "2018년_남여 비율                      0.97\n",
      "2019년_남여 비율                      0.97\n",
      "2020년_남여 비율                      0.96\n",
      "2021년_남여 비율                      0.96\n",
      "2022년_남여 비율                      0.96\n",
      "Name: 10, dtype: object, '서울특별시 마포구 (1144000000)': 행정구역           서울특별시 마포구 (1144000000)\n",
      "2013년_남여 비율                      0.94\n",
      "2014년_남여 비율                      0.93\n",
      "2015년_남여 비율                      0.93\n",
      "2016년_남여 비율                      0.92\n",
      "2017년_남여 비율                      0.91\n",
      "2018년_남여 비율                      0.91\n",
      "2019년_남여 비율                       0.9\n",
      "2020년_남여 비율                      0.89\n",
      "2021년_남여 비율                      0.89\n",
      "2022년_남여 비율                      0.88\n",
      "Name: 11, dtype: object, '서울특별시 서대문구 (1141000000)': 행정구역           서울특별시 서대문구 (1141000000)\n",
      "2013년_남여 비율                       0.95\n",
      "2014년_남여 비율                       0.95\n",
      "2015년_남여 비율                       0.95\n",
      "2016년_남여 비율                       0.94\n",
      "2017년_남여 비율                       0.93\n",
      "2018년_남여 비율                       0.93\n",
      "2019년_남여 비율                       0.92\n",
      "2020년_남여 비율                       0.92\n",
      "2021년_남여 비율                       0.92\n",
      "2022년_남여 비율                       0.91\n",
      "Name: 12, dtype: object, '서울특별시 은평구 (1138000000)': 행정구역           서울특별시 은평구 (1138000000)\n",
      "2013년_남여 비율                      0.96\n",
      "2014년_남여 비율                      0.96\n",
      "2015년_남여 비율                      0.95\n",
      "2016년_남여 비율                      0.95\n",
      "2017년_남여 비율                      0.94\n",
      "2018년_남여 비율                      0.94\n",
      "2019년_남여 비율                      0.93\n",
      "2020년_남여 비율                      0.92\n",
      "2021년_남여 비율                      0.92\n",
      "2022년_남여 비율                      0.91\n",
      "Name: 13, dtype: object, '서울특별시 노원구 (1135000000)': 행정구역           서울특별시 노원구 (1135000000)\n",
      "2013년_남여 비율                      0.95\n",
      "2014년_남여 비율                      0.95\n",
      "2015년_남여 비율                      0.95\n",
      "2016년_남여 비율                      0.95\n",
      "2017년_남여 비율                      0.95\n",
      "2018년_남여 비율                      0.94\n",
      "2019년_남여 비율                      0.94\n",
      "2020년_남여 비율                      0.93\n",
      "2021년_남여 비율                      0.93\n",
      "2022년_남여 비율                      0.93\n",
      "Name: 14, dtype: object, '서울특별시 도봉구 (1132000000)': 행정구역           서울특별시 도봉구 (1132000000)\n",
      "2013년_남여 비율                      0.98\n",
      "2014년_남여 비율                      0.97\n",
      "2015년_남여 비율                      0.97\n",
      "2016년_남여 비율                      0.97\n",
      "2017년_남여 비율                      0.96\n",
      "2018년_남여 비율                      0.96\n",
      "2019년_남여 비율                      0.96\n",
      "2020년_남여 비율                      0.95\n",
      "2021년_남여 비율                      0.95\n",
      "2022년_남여 비율                      0.94\n",
      "Name: 15, dtype: object, '서울특별시 강북구 (1130500000)': 행정구역           서울특별시 강북구 (1130500000)\n",
      "2013년_남여 비율                      0.98\n",
      "2014년_남여 비율                      0.97\n",
      "2015년_남여 비율                      0.97\n",
      "2016년_남여 비율                      0.97\n",
      "2017년_남여 비율                      0.96\n",
      "2018년_남여 비율                      0.96\n",
      "2019년_남여 비율                      0.95\n",
      "2020년_남여 비율                      0.95\n",
      "2021년_남여 비율                      0.95\n",
      "2022년_남여 비율                      0.94\n",
      "Name: 16, dtype: object, '서울특별시 성북구 (1129000000)': 행정구역           서울특별시 성북구 (1129000000)\n",
      "2013년_남여 비율                      0.97\n",
      "2014년_남여 비율                      0.97\n",
      "2015년_남여 비율                      0.96\n",
      "2016년_남여 비율                      0.95\n",
      "2017년_남여 비율                      0.95\n",
      "2018년_남여 비율                      0.95\n",
      "2019년_남여 비율                      0.94\n",
      "2020년_남여 비율                      0.93\n",
      "2021년_남여 비율                      0.93\n",
      "2022년_남여 비율                      0.93\n",
      "Name: 17, dtype: object, '서울특별시 중랑구 (1126000000)': 행정구역           서울특별시 중랑구 (1126000000)\n",
      "2013년_남여 비율                       1.0\n",
      "2014년_남여 비율                       1.0\n",
      "2015년_남여 비율                       1.0\n",
      "2016년_남여 비율                      0.99\n",
      "2017년_남여 비율                      0.99\n",
      "2018년_남여 비율                      0.99\n",
      "2019년_남여 비율                      0.98\n",
      "2020년_남여 비율                      0.98\n",
      "2021년_남여 비율                      0.97\n",
      "2022년_남여 비율                      0.97\n",
      "Name: 18, dtype: object, '서울특별시 동대문구 (1123000000)': 행정구역           서울특별시 동대문구 (1123000000)\n",
      "2013년_남여 비율                       1.01\n",
      "2014년_남여 비율                       1.01\n",
      "2015년_남여 비율                        1.0\n",
      "2016년_남여 비율                        1.0\n",
      "2017년_남여 비율                        1.0\n",
      "2018년_남여 비율                       0.99\n",
      "2019년_남여 비율                       0.99\n",
      "2020년_남여 비율                       0.98\n",
      "2021년_남여 비율                       0.98\n",
      "2022년_남여 비율                       0.97\n",
      "Name: 19, dtype: object, '서울특별시 광진구 (1121500000)': 행정구역           서울특별시 광진구 (1121500000)\n",
      "2013년_남여 비율                      0.97\n",
      "2014년_남여 비율                      0.97\n",
      "2015년_남여 비율                      0.96\n",
      "2016년_남여 비율                      0.96\n",
      "2017년_남여 비율                      0.95\n",
      "2018년_남여 비율                      0.95\n",
      "2019년_남여 비율                      0.94\n",
      "2020년_남여 비율                      0.93\n",
      "2021년_남여 비율                      0.93\n",
      "2022년_남여 비율                      0.93\n",
      "Name: 20, dtype: object, '서울특별시 성동구 (1120000000)': 행정구역           서울특별시 성동구 (1120000000)\n",
      "2013년_남여 비율                       1.0\n",
      "2014년_남여 비율                      0.99\n",
      "2015년_남여 비율                      0.99\n",
      "2016년_남여 비율                      0.98\n",
      "2017년_남여 비율                      0.97\n",
      "2018년_남여 비율                      0.96\n",
      "2019년_남여 비율                      0.96\n",
      "2020년_남여 비율                      0.95\n",
      "2021년_남여 비율                      0.95\n",
      "2022년_남여 비율                      0.95\n",
      "Name: 21, dtype: object, '서울특별시 용산구 (1117000000)': 행정구역           서울특별시 용산구 (1117000000)\n",
      "2013년_남여 비율                      0.95\n",
      "2014년_남여 비율                      0.94\n",
      "2015년_남여 비율                      0.94\n",
      "2016년_남여 비율                      0.94\n",
      "2017년_남여 비율                      0.94\n",
      "2018년_남여 비율                      0.93\n",
      "2019년_남여 비율                      0.93\n",
      "2020년_남여 비율                      0.93\n",
      "2021년_남여 비율                      0.93\n",
      "2022년_남여 비율                      0.93\n",
      "Name: 22, dtype: object, '서울특별시 중구 (1114000000)': 행정구역           서울특별시 중구 (1114000000)\n",
      "2013년_남여 비율                      1.0\n",
      "2014년_남여 비율                      1.0\n",
      "2015년_남여 비율                     0.99\n",
      "2016년_남여 비율                     0.99\n",
      "2017년_남여 비율                     0.98\n",
      "2018년_남여 비율                     0.97\n",
      "2019년_남여 비율                     0.96\n",
      "2020년_남여 비율                     0.96\n",
      "2021년_남여 비율                     0.95\n",
      "2022년_남여 비율                     0.95\n",
      "Name: 23, dtype: object, '서울특별시 종로구 (1111000000)': 행정구역           서울특별시 종로구 (1111000000)\n",
      "2013년_남여 비율                      0.99\n",
      "2014년_남여 비율                      0.98\n",
      "2015년_남여 비율                      0.98\n",
      "2016년_남여 비율                      0.97\n",
      "2017년_남여 비율                      0.96\n",
      "2018년_남여 비율                      0.96\n",
      "2019년_남여 비율                      0.95\n",
      "2020년_남여 비율                      0.95\n",
      "2021년_남여 비율                      0.94\n",
      "2022년_남여 비율                      0.94\n",
      "Name: 24, dtype: object, '서울특별시  (1100000000)': 행정구역           서울특별시  (1100000000)\n",
      "2013년_남여 비율                   0.98\n",
      "2014년_남여 비율                   0.97\n",
      "2015년_남여 비율                   0.97\n",
      "2016년_남여 비율                   0.96\n",
      "2017년_남여 비율                   0.96\n",
      "2018년_남여 비율                   0.96\n",
      "2019년_남여 비율                   0.95\n",
      "2020년_남여 비율                   0.95\n",
      "2021년_남여 비율                   0.94\n",
      "2022년_남여 비율                   0.94\n",
      "Name: 25, dtype: object}\n"
     ]
    }
   ],
   "source": [
    "print(data)"
   ]
  },
  {
   "cell_type": "code",
   "execution_count": 38,
   "id": "6d21e54b",
   "metadata": {},
   "outputs": [],
   "source": [
    "from matplotlib import font_manager, rc\n",
    "font_path = '/Windows/Fonts/H2GSRB.TTF'\n",
    "font = font_manager.FontProperties(fname = font_path).get_name()\n",
    "rc('font', family = font)\n"
   ]
  },
  {
   "cell_type": "code",
   "execution_count": 49,
   "id": "2063a577",
   "metadata": {},
   "outputs": [
    {
     "data": {
      "text/plain": [
       "<pandas.plotting._core.PlotAccessor object at 0x000001E2A62DF9A0>"
      ]
     },
     "execution_count": 49,
     "metadata": {},
     "output_type": "execute_result"
    }
   ],
   "source": [
    "import pandas as pd\n",
    "import matplotlib.pyplot as plt\n",
    "\n",
    "result = pd.read_csv('201312.csv', encoding='cp949')\n",
    "result.plot"
   ]
  },
  {
   "cell_type": "code",
   "execution_count": null,
   "id": "eb842f84",
   "metadata": {},
   "outputs": [],
   "source": []
  },
  {
   "cell_type": "code",
   "execution_count": null,
   "id": "ff35f49b",
   "metadata": {},
   "outputs": [],
   "source": []
  },
  {
   "cell_type": "code",
   "execution_count": null,
   "id": "8646dcec",
   "metadata": {},
   "outputs": [],
   "source": []
  },
  {
   "cell_type": "code",
   "execution_count": null,
   "id": "6940f959",
   "metadata": {},
   "outputs": [],
   "source": []
  },
  {
   "cell_type": "code",
   "execution_count": null,
   "id": "06e0d994",
   "metadata": {},
   "outputs": [],
   "source": []
  },
  {
   "cell_type": "code",
   "execution_count": null,
   "id": "40f8a73d",
   "metadata": {},
   "outputs": [],
   "source": []
  },
  {
   "cell_type": "code",
   "execution_count": null,
   "id": "8460e84c",
   "metadata": {},
   "outputs": [],
   "source": []
  },
  {
   "cell_type": "code",
   "execution_count": null,
   "id": "ba6990e2",
   "metadata": {},
   "outputs": [],
   "source": []
  },
  {
   "cell_type": "code",
   "execution_count": null,
   "id": "5b496de6",
   "metadata": {},
   "outputs": [],
   "source": []
  },
  {
   "cell_type": "code",
   "execution_count": null,
   "id": "908677ca",
   "metadata": {},
   "outputs": [],
   "source": []
  },
  {
   "cell_type": "code",
   "execution_count": null,
   "id": "3dad15c2",
   "metadata": {},
   "outputs": [],
   "source": []
  },
  {
   "cell_type": "code",
   "execution_count": null,
   "id": "080c2af9",
   "metadata": {},
   "outputs": [],
   "source": []
  },
  {
   "cell_type": "code",
   "execution_count": null,
   "id": "7dbc9c11",
   "metadata": {},
   "outputs": [],
   "source": []
  },
  {
   "cell_type": "code",
   "execution_count": null,
   "id": "5926db85",
   "metadata": {},
   "outputs": [],
   "source": []
  },
  {
   "cell_type": "code",
   "execution_count": null,
   "id": "4354d145",
   "metadata": {},
   "outputs": [],
   "source": []
  },
  {
   "cell_type": "code",
   "execution_count": null,
   "id": "87cf03ed",
   "metadata": {},
   "outputs": [],
   "source": []
  },
  {
   "cell_type": "code",
   "execution_count": null,
   "id": "d8fa90ab",
   "metadata": {},
   "outputs": [],
   "source": []
  }
 ],
 "metadata": {
  "kernelspec": {
   "display_name": "Python 3 (ipykernel)",
   "language": "python",
   "name": "python3"
  },
  "language_info": {
   "codemirror_mode": {
    "name": "ipython",
    "version": 3
   },
   "file_extension": ".py",
   "mimetype": "text/x-python",
   "name": "python",
   "nbconvert_exporter": "python",
   "pygments_lexer": "ipython3",
   "version": "3.9.13"
  }
 },
 "nbformat": 4,
 "nbformat_minor": 5
}
