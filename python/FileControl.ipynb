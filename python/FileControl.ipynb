{
 "cells": [
  {
   "cell_type": "code",
   "execution_count": 3,
   "id": "412fe813",
   "metadata": {},
   "outputs": [],
   "source": [
    "# 쓰기\n",
    "f = open('text.txt', 'w')\n",
    "f.write('abcdefg')\n",
    "f.close()"
   ]
  },
  {
   "cell_type": "code",
   "execution_count": 7,
   "id": "12d49380",
   "metadata": {},
   "outputs": [],
   "source": [
    "# 추가\n",
    "f = open('text.txt', 'a')\n",
    "f.write(',000')\n",
    "f.close()"
   ]
  },
  {
   "cell_type": "code",
   "execution_count": 10,
   "id": "5c119776",
   "metadata": {},
   "outputs": [
    {
     "name": "stdout",
     "output_type": "stream",
     "text": [
      "abcdefg012345000,000\n",
      "['abcdefg012345000', '000']\n"
     ]
    }
   ],
   "source": [
    "# 읽기\n",
    "f = open('text.txt', 'r')\n",
    "data = f.read()\n",
    "print(data)\n",
    "list_temp = data.split(',')\n",
    "print(list_temp)\n",
    "f.close()"
   ]
  },
  {
   "cell_type": "code",
   "execution_count": 11,
   "id": "44f82275",
   "metadata": {},
   "outputs": [
    {
     "name": "stdout",
     "output_type": "stream",
     "text": [
      "이름,전화번호,등번호\n",
      "손흥민,010-1111-2222,7\n",
      "이강인,010-1111-2223,19\n",
      "김민재,010-1111-2224,20\n",
      "\n",
      "<class 'str'>\n"
     ]
    }
   ],
   "source": [
    "# csv \n",
    "f = open('list.csv', 'r')\n",
    "data = f.read()\n",
    "f.close()\n",
    "print(data)\n",
    "print(type(data))"
   ]
  },
  {
   "cell_type": "code",
   "execution_count": 12,
   "id": "6ad1df27",
   "metadata": {},
   "outputs": [
    {
     "name": "stdout",
     "output_type": "stream",
     "text": [
      "['이름', '전화번호', '등번호']\n",
      "['손흥민', '010-1111-2222', '7']\n",
      "['이강인', '010-1111-2223', '19']\n",
      "['김민재', '010-1111-2224', '20']\n"
     ]
    }
   ],
   "source": [
    "import csv\n",
    "# read -> 행의 데이터 -> list\n",
    "f = open('list.csv', 'r')\n",
    "data = csv.reader(f)\n",
    "for item in data :\n",
    "    print(item)\n",
    "    \n",
    "f.close()"
   ]
  },
  {
   "cell_type": "code",
   "execution_count": 13,
   "id": "659f423f",
   "metadata": {},
   "outputs": [
    {
     "name": "stdout",
     "output_type": "stream",
     "text": [
      "<class 'pandas.core.frame.DataFrame'>\n"
     ]
    }
   ],
   "source": [
    "# pandas csv read\n",
    "import pandas as pd\n",
    "\n",
    "data = pd.read_csv('list.csv', encoding = 'cp949')\n",
    "data\n",
    "print(type(data))"
   ]
  },
  {
   "cell_type": "code",
   "execution_count": null,
   "id": "0c7bd41b",
   "metadata": {},
   "outputs": [],
   "source": [
    "# xls, xlsx\n",
    "import openpyxl as xl\n",
    "\n",
    "data = xl.load_workbook('list.xlsx')\n",
    "sheet = data['list']\n",
    "print('>>>>>>>>> ', sheet)\n",
    "\n",
    "for cell in sheet :\n",
    "    for i in cell :\n",
    "        print(i.value)"
   ]
  },
  {
   "cell_type": "code",
   "execution_count": null,
   "id": "7ddfe974",
   "metadata": {},
   "outputs": [],
   "source": [
    "#pandas -> xls\n",
    "data = pd.read_excel('list.xlsx')\n",
    "data"
   ]
  },
  {
   "cell_type": "code",
   "execution_count": 24,
   "id": "f61fd688",
   "metadata": {},
   "outputs": [
    {
     "data": {
      "text/plain": [
       "<function BufferedWriter.close>"
      ]
     },
     "execution_count": 24,
     "metadata": {},
     "output_type": "execute_result"
    }
   ],
   "source": [
    "# 파이썬 데이터 형식 그대로 저장 -> 읽기\n",
    "\n",
    "import pickle\n",
    "\n",
    "data = ['a', 'b', 'c']\n",
    "f = open('pickle_data.txt', 'wb')\n",
    "pickle.dump(data, f)\n",
    "f.close"
   ]
  },
  {
   "cell_type": "code",
   "execution_count": 25,
   "id": "d8add03b",
   "metadata": {},
   "outputs": [
    {
     "ename": "EOFError",
     "evalue": "Ran out of input",
     "output_type": "error",
     "traceback": [
      "\u001b[1;31m---------------------------------------------------------------------------\u001b[0m",
      "\u001b[1;31mEOFError\u001b[0m                                  Traceback (most recent call last)",
      "\u001b[1;32m~\\AppData\\Local\\Temp\\ipykernel_10244\\1265584574.py\u001b[0m in \u001b[0;36m<module>\u001b[1;34m\u001b[0m\n\u001b[0;32m      1\u001b[0m \u001b[0mf\u001b[0m \u001b[1;33m=\u001b[0m \u001b[0mopen\u001b[0m\u001b[1;33m(\u001b[0m\u001b[1;34m'pickle_data.txt'\u001b[0m\u001b[1;33m,\u001b[0m \u001b[1;34m'rb'\u001b[0m\u001b[1;33m)\u001b[0m\u001b[1;33m\u001b[0m\u001b[1;33m\u001b[0m\u001b[0m\n\u001b[1;32m----> 2\u001b[1;33m \u001b[0mdata\u001b[0m \u001b[1;33m=\u001b[0m \u001b[0mpickle\u001b[0m\u001b[1;33m.\u001b[0m\u001b[0mload\u001b[0m\u001b[1;33m(\u001b[0m\u001b[0mf\u001b[0m\u001b[1;33m)\u001b[0m\u001b[1;33m\u001b[0m\u001b[1;33m\u001b[0m\u001b[0m\n\u001b[0m\u001b[0;32m      3\u001b[0m \u001b[0mprint\u001b[0m\u001b[1;33m(\u001b[0m\u001b[0mdata\u001b[0m\u001b[1;33m)\u001b[0m\u001b[1;33m\u001b[0m\u001b[1;33m\u001b[0m\u001b[0m\n\u001b[0;32m      4\u001b[0m \u001b[0mprint\u001b[0m\u001b[1;33m(\u001b[0m\u001b[0mtype\u001b[0m\u001b[1;33m(\u001b[0m\u001b[0mdata\u001b[0m\u001b[1;33m)\u001b[0m\u001b[1;33m)\u001b[0m\u001b[1;33m\u001b[0m\u001b[1;33m\u001b[0m\u001b[0m\n",
      "\u001b[1;31mEOFError\u001b[0m: Ran out of input"
     ]
    }
   ],
   "source": [
    "f = open('pickle_data.txt', 'rb')\n",
    "data = pickle.load(f)\n",
    "print(data)\n",
    "print(type(data))"
   ]
  },
  {
   "cell_type": "code",
   "execution_count": 26,
   "id": "455d679c",
   "metadata": {},
   "outputs": [],
   "source": [
    "import requests"
   ]
  },
  {
   "cell_type": "code",
   "execution_count": 27,
   "id": "7d872e10",
   "metadata": {},
   "outputs": [
    {
     "name": "stdout",
     "output_type": "stream",
     "text": [
      "<Response [200]>\n"
     ]
    }
   ],
   "source": [
    "url = 'https://www.naver.com'\n",
    "res = requests.get(url)\n",
    "print(res)"
   ]
  },
  {
   "cell_type": "code",
   "execution_count": 30,
   "id": "61064831",
   "metadata": {},
   "outputs": [
    {
     "name": "stdout",
     "output_type": "stream",
     "text": [
      "<class 'str'>\n"
     ]
    }
   ],
   "source": [
    "# print(res.text)\n",
    "print(type(res.text))"
   ]
  },
  {
   "cell_type": "code",
   "execution_count": 31,
   "id": "9a3daa7d",
   "metadata": {},
   "outputs": [
    {
     "name": "stdout",
     "output_type": "stream",
     "text": [
      "365\n",
      "6072\n"
     ]
    }
   ],
   "source": [
    "print(res.text.find('네이버'))\n",
    "print(res.text.find('로그인'))"
   ]
  },
  {
   "cell_type": "code",
   "execution_count": 32,
   "id": "306c732c",
   "metadata": {},
   "outputs": [],
   "source": [
    "import bs4"
   ]
  },
  {
   "cell_type": "code",
   "execution_count": 33,
   "id": "2628ed56",
   "metadata": {},
   "outputs": [
    {
     "name": "stdout",
     "output_type": "stream",
     "text": [
      "<html><body><div>안녕하세요</div></body></html>\n"
     ]
    }
   ],
   "source": [
    "data = \"<div>안녕하세요</div>\"\n",
    "soup = bs4.BeautifulSoup(data)\n",
    "print(soup)"
   ]
  },
  {
   "cell_type": "code",
   "execution_count": 35,
   "id": "5fc7b4ac",
   "metadata": {},
   "outputs": [
    {
     "name": "stdout",
     "output_type": "stream",
     "text": [
      "<div>안녕하세요</div>\n",
      "안녕하세요\n"
     ]
    }
   ],
   "source": [
    "# find : 특정 선택자를 통해서 해당 엘리먼트를 검색 -> 반환\n",
    "print(soup.find('div'))\n",
    "print(soup.find('div').text)"
   ]
  },
  {
   "cell_type": "code",
   "execution_count": 39,
   "id": "bb639c5a",
   "metadata": {},
   "outputs": [
    {
     "name": "stdout",
     "output_type": "stream",
     "text": [
      "<a class=\"issue\" data-clk=\"quickarticle\" href=\"https://news.naver.com/main/list.naver?mode=LPOD&amp;mid=sec&amp;sid1=001&amp;sid2=140&amp;oid=001&amp;isYeonhapFlash=Y&amp;aid=0013691289\">[2보] '성남FC 후원금 의혹' 이재명 검찰 출석</a>\n"
     ]
    }
   ],
   "source": [
    "soup = bs4.BeautifulSoup(res.text)\n",
    "find_data = soup.find('a', attrs={'class' : 'issue'})\n",
    "print(find_data)"
   ]
  },
  {
   "cell_type": "code",
   "execution_count": null,
   "id": "4076532d",
   "metadata": {},
   "outputs": [],
   "source": []
  },
  {
   "cell_type": "code",
   "execution_count": null,
   "id": "b4e92534",
   "metadata": {},
   "outputs": [],
   "source": []
  },
  {
   "cell_type": "code",
   "execution_count": null,
   "id": "ca1e4f0f",
   "metadata": {},
   "outputs": [],
   "source": []
  },
  {
   "cell_type": "code",
   "execution_count": null,
   "id": "8622f0a4",
   "metadata": {},
   "outputs": [],
   "source": []
  },
  {
   "cell_type": "code",
   "execution_count": null,
   "id": "0e30ad30",
   "metadata": {},
   "outputs": [],
   "source": []
  },
  {
   "cell_type": "code",
   "execution_count": null,
   "id": "4f340f03",
   "metadata": {},
   "outputs": [],
   "source": []
  },
  {
   "cell_type": "code",
   "execution_count": null,
   "id": "62b2669d",
   "metadata": {},
   "outputs": [],
   "source": []
  },
  {
   "cell_type": "code",
   "execution_count": null,
   "id": "eac47791",
   "metadata": {},
   "outputs": [],
   "source": []
  },
  {
   "cell_type": "code",
   "execution_count": null,
   "id": "e4dd247b",
   "metadata": {},
   "outputs": [],
   "source": []
  },
  {
   "cell_type": "code",
   "execution_count": null,
   "id": "ae167a95",
   "metadata": {},
   "outputs": [],
   "source": []
  },
  {
   "cell_type": "code",
   "execution_count": null,
   "id": "3fea2e75",
   "metadata": {},
   "outputs": [],
   "source": []
  },
  {
   "cell_type": "code",
   "execution_count": null,
   "id": "497e0ccb",
   "metadata": {},
   "outputs": [],
   "source": []
  },
  {
   "cell_type": "code",
   "execution_count": null,
   "id": "e6d628fe",
   "metadata": {},
   "outputs": [],
   "source": []
  },
  {
   "cell_type": "code",
   "execution_count": null,
   "id": "1838c0a2",
   "metadata": {},
   "outputs": [],
   "source": []
  },
  {
   "cell_type": "code",
   "execution_count": null,
   "id": "9f7a59c2",
   "metadata": {},
   "outputs": [],
   "source": []
  },
  {
   "cell_type": "code",
   "execution_count": null,
   "id": "f351d81b",
   "metadata": {},
   "outputs": [],
   "source": []
  },
  {
   "cell_type": "code",
   "execution_count": null,
   "id": "68028c74",
   "metadata": {},
   "outputs": [],
   "source": []
  },
  {
   "cell_type": "code",
   "execution_count": null,
   "id": "1227c7bb",
   "metadata": {},
   "outputs": [],
   "source": []
  },
  {
   "cell_type": "code",
   "execution_count": null,
   "id": "304bae30",
   "metadata": {},
   "outputs": [],
   "source": []
  },
  {
   "cell_type": "code",
   "execution_count": null,
   "id": "9f0fc352",
   "metadata": {},
   "outputs": [],
   "source": []
  }
 ],
 "metadata": {
  "kernelspec": {
   "display_name": "Python 3 (ipykernel)",
   "language": "python",
   "name": "python3"
  },
  "language_info": {
   "codemirror_mode": {
    "name": "ipython",
    "version": 3
   },
   "file_extension": ".py",
   "mimetype": "text/x-python",
   "name": "python",
   "nbconvert_exporter": "python",
   "pygments_lexer": "ipython3",
   "version": "3.9.13"
  }
 },
 "nbformat": 4,
 "nbformat_minor": 5
}
