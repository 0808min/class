{
 "cells": [
  {
   "cell_type": "code",
   "execution_count": 1,
   "id": "4418f630",
   "metadata": {},
   "outputs": [
    {
     "name": "stdout",
     "output_type": "stream",
     "text": [
      "    \n",
      "    홍길동: 1234, Gil-Dong Hong,\n",
      "    이길동: 3915, Gil-Dong Lee,\n",
      "    박길동: 0000, Gil-Dong Park\n",
      "\n"
     ]
    }
   ],
   "source": [
    "b = \"\"\"    \n",
    "    홍길동: 1234, Gil-Dong Hong,\n",
    "    이길동: 3915, Gil-Dong Lee,\n",
    "    박길동: 0000, Gil-Dong Park\n",
    "\"\"\"\n",
    "print(b)"
   ]
  },
  {
   "cell_type": "code",
   "execution_count": 3,
   "id": "2876f0b3",
   "metadata": {},
   "outputs": [
    {
     "name": "stdout",
     "output_type": "stream",
     "text": [
      "홍길동: 1234, Gil-Dong Hong,\n",
      "    이길동: 3915, Gil-Dong Lee,\n",
      "    박길동: 0000, Gil-Dong Park\n"
     ]
    }
   ],
   "source": [
    "# 좌우 공백 제거\n",
    "b = b.strip()\n",
    "print(b)"
   ]
  },
  {
   "cell_type": "code",
   "execution_count": 6,
   "id": "e2bacd54",
   "metadata": {},
   "outputs": [
    {
     "name": "stdout",
     "output_type": "stream",
     "text": [
      "['홍길동: 1234, Gil-Dong Hong,', '    이길동: 3915, Gil-Dong Lee,', '    박길동: 0000, Gil-Dong Park']\n"
     ]
    }
   ],
   "source": [
    "# 개행을 기준으로 분할\n",
    "list_temp = b.split('\\n')\n",
    "print(list_temp)"
   ]
  },
  {
   "cell_type": "code",
   "execution_count": 14,
   "id": "4ec88f15",
   "metadata": {},
   "outputs": [
    {
     "name": "stdout",
     "output_type": "stream",
     "text": [
      "    박길동: 0000, Gil-Dong Park\n",
      "['    박길동', ' 0000, Gil-Dong Park']\n",
      "박길동\n"
     ]
    }
   ],
   "source": [
    "print(list_temp[2])\n",
    "result = list_temp[2].split(':')\n",
    "print(result)\n",
    "print(result[0].strip())"
   ]
  },
  {
   "cell_type": "code",
   "execution_count": 15,
   "id": "df32f16e",
   "metadata": {},
   "outputs": [
    {
     "name": "stdout",
     "output_type": "stream",
     "text": [
      "홍길동\n",
      "이길동\n",
      "박길동\n"
     ]
    }
   ],
   "source": [
    "for i in list_temp :\n",
    "    i = i.split(':')\n",
    "    i = i[0].strip()\n",
    "    print(i)"
   ]
  },
  {
   "cell_type": "code",
   "execution_count": 16,
   "id": "633c7410",
   "metadata": {},
   "outputs": [
    {
     "name": "stdout",
     "output_type": "stream",
     "text": [
      "\n",
      "        <div class=\"select_div\">\n",
      "            <span data-i18n=\"footer.relationSites\">연관사이트</span>\n",
      "            <ul>\n",
      "\n",
      "\n",
      "            </ul>\n",
      "        </div>\n",
      "        <ul class=\"list_sns\">\n",
      "            <li><a href=\"https://www.facebook.com/ekoreatech\" target=\"_blank\"><img src=\"/res/lms/img/common/btn_footer_sns1.png\" alt=\"페이스북\"></a></li>\n",
      "            <li><a href=\"https://blog.naver.com/e-koreatech\" target=\"_blank\"><img src=\"/res/lms/img/common/btn_footer_sns2.png\" alt=\"블로그\"></a></li>\n",
      "            <li><a href=\"https://www.youtube.com/user/koreatecholei\" target=\"_blank\"><img src=\"/res/lms/img/common/btn_footer_sns3.png\" alt=\"유트브\"></a></li>\n",
      "        </ul>\n",
      "\n"
     ]
    }
   ],
   "source": [
    "c = \"\"\"\n",
    "        <div class=\"select_div\">\n",
    "            <span data-i18n=\"footer.relationSites\">연관사이트</span>\n",
    "            <ul>\n",
    "\n",
    "\n",
    "            </ul>\n",
    "        </div>\n",
    "        <ul class=\"list_sns\">\n",
    "            <li><a href=\"https://www.facebook.com/ekoreatech\" target=\"_blank\"><img src=\"/res/lms/img/common/btn_footer_sns1.png\" alt=\"페이스북\"></a></li>\n",
    "            <li><a href=\"https://blog.naver.com/e-koreatech\" target=\"_blank\"><img src=\"/res/lms/img/common/btn_footer_sns2.png\" alt=\"블로그\"></a></li>\n",
    "            <li><a href=\"https://www.youtube.com/user/koreatecholei\" target=\"_blank\"><img src=\"/res/lms/img/common/btn_footer_sns3.png\" alt=\"유트브\"></a></li>\n",
    "        </ul>\n",
    "\"\"\"\n",
    "# print(c)\n"
   ]
  },
  {
   "cell_type": "code",
   "execution_count": 17,
   "id": "c5023e4b",
   "metadata": {},
   "outputs": [
    {
     "data": {
      "text/plain": [
       "169"
      ]
     },
     "execution_count": 17,
     "metadata": {},
     "output_type": "execute_result"
    }
   ],
   "source": [
    "c.find('list_sns')"
   ]
  },
  {
   "cell_type": "code",
   "execution_count": 18,
   "id": "23404c8b",
   "metadata": {},
   "outputs": [
    {
     "name": "stdout",
     "output_type": "stream",
     "text": [
      "list_sns\">\n",
      "            <li><a href=\"https://www.facebook.com/ekoreatech\" target=\"_blank\"><img src=\"/res/lms/img/common/btn_footer_sns1.png\" alt=\"페이스북\"></a></li>\n",
      "            <li><a href=\"https://blog.naver.com/e-koreatech\" target=\"_blank\"><img src=\"/res/lms/img/common/btn_footer_sns2.png\" alt=\"블로그\"></a></li>\n",
      "            <li><a href=\"https://www.youtube.com/user/koreatecholei\" target=\"_blank\"><img src=\"/res/lms/img/common/btn_footer_sns3.png\" alt=\"유트브\"></a></li>\n",
      "        </ul>\n",
      "\n"
     ]
    }
   ],
   "source": [
    "temp = c[169:]\n",
    "print(temp)"
   ]
  },
  {
   "cell_type": "code",
   "execution_count": 19,
   "id": "9d466fe8",
   "metadata": {},
   "outputs": [
    {
     "name": "stdout",
     "output_type": "stream",
     "text": [
      "['list_sns\">\\n            <li><a href=\"https://www.facebook.com/ekoreatech\" target=\"_blank\"><img src=\"/res/lms/img/common/btn_footer_sns1.png\" alt=\"페이스북\"></a>', '\\n            <li><a href=\"https://blog.naver.com/e-koreatech\" target=\"_blank\"><img src=\"/res/lms/img/common/btn_footer_sns2.png\" alt=\"블로그\"></a>', '\\n            <li><a href=\"https://www.youtube.com/user/koreatecholei\" target=\"_blank\"><img src=\"/res/lms/img/common/btn_footer_sns3.png\" alt=\"유트브\"></a>', '\\n        </ul>\\n']\n"
     ]
    }
   ],
   "source": [
    "temp = temp.split('</li>')\n",
    "print(temp)"
   ]
  },
  {
   "cell_type": "code",
   "execution_count": 51,
   "id": "6b74ebd7",
   "metadata": {},
   "outputs": [
    {
     "name": "stdout",
     "output_type": "stream",
     "text": [
      "list_sns\">\n",
      "            <li><a href=\"https://www.facebook.com/ekoreatech\" target=\"_blank\"><img src=\"/res/lms/img/common/btn_footer_sns1.png\" alt=\"페이스북\"></a>\n"
     ]
    }
   ],
   "source": [
    "print(temp[0])"
   ]
  },
  {
   "cell_type": "code",
   "execution_count": 52,
   "id": "90567105",
   "metadata": {},
   "outputs": [
    {
     "name": "stdout",
     "output_type": "stream",
     "text": [
      "list_sns\">\n",
      "            <li><a href=\"https://www.facebook.com/ekoreatech\n"
     ]
    }
   ],
   "source": [
    "url = temp[0].split('\" target')[0]\n",
    "print(url)"
   ]
  },
  {
   "cell_type": "code",
   "execution_count": 53,
   "id": "7bf5ae5f",
   "metadata": {},
   "outputs": [
    {
     "name": "stdout",
     "output_type": "stream",
     "text": [
      "https://www.facebook.com/ekoreatech\n"
     ]
    }
   ],
   "source": [
    "url = url.split('href=\"')[1]\n",
    "print(url)"
   ]
  },
  {
   "cell_type": "code",
   "execution_count": 48,
   "id": "083dab30",
   "metadata": {},
   "outputs": [
    {
     "name": "stdout",
     "output_type": "stream",
     "text": [
      "list_sns\">\n",
      "            <li><a href=\"https://www.facebook.com/ekoreatech\" target=\"_blank\"><img src=\"/res/lms/img/common/btn_footer_sns1.png\" alt=\"페이스북\"></a>\n"
     ]
    }
   ],
   "source": [
    "print(temp[0])"
   ]
  },
  {
   "cell_type": "code",
   "execution_count": 49,
   "id": "d8a193f4",
   "metadata": {},
   "outputs": [
    {
     "name": "stdout",
     "output_type": "stream",
     "text": [
      "페이스북\"></a>\n"
     ]
    }
   ],
   "source": [
    "name = temp[0].split('alt=\"')[1]\n",
    "print(name)"
   ]
  },
  {
   "cell_type": "code",
   "execution_count": 50,
   "id": "eb9c16d9",
   "metadata": {},
   "outputs": [
    {
     "name": "stdout",
     "output_type": "stream",
     "text": [
      "페이스북\n"
     ]
    }
   ],
   "source": [
    "# name.find('')\n",
    "\n",
    "name = name[:name.find('\"')]\n",
    "print(name)"
   ]
  },
  {
   "cell_type": "code",
   "execution_count": 67,
   "id": "ca4a1d93",
   "metadata": {},
   "outputs": [
    {
     "name": "stdout",
     "output_type": "stream",
     "text": [
      "https://www.facebook.com/ekoreatech\n",
      "페이스북\n",
      "https://blog.naver.com/e-koreatech\n",
      "블로그\n",
      "https://www.youtube.com/user/koreatecholei\n",
      "유트브\n"
     ]
    }
   ],
   "source": [
    "for i in range(len(temp)-1) :\n",
    "    url = temp[i].split('\" target')[0]\n",
    "    url = url.split('href=\"')[1]\n",
    "    print(url)\n",
    "    name = temp[i].split('alt=\"')[1]\n",
    "    name = name[:name.find('\"')]\n",
    "    print(name)"
   ]
  },
  {
   "cell_type": "code",
   "execution_count": 76,
   "id": "eba5c5d1",
   "metadata": {},
   "outputs": [
    {
     "name": "stdout",
     "output_type": "stream",
     "text": [
      "2345\n"
     ]
    }
   ],
   "source": [
    "import re\n",
    "\n",
    "a = 'a,2,3,4,5'\n",
    "pattern = re.compile('[^0-9]')\n",
    "result = re.sub(pattern, '', a)\n",
    "print(result)"
   ]
  },
  {
   "cell_type": "code",
   "execution_count": 77,
   "id": "8144c0c7",
   "metadata": {},
   "outputs": [
    {
     "name": "stdout",
     "output_type": "stream",
     "text": [
      "    \n",
      "    홍길동: 1234, Gil-Dong Hong,\n",
      "    이길동: 3915, Gil-Dong Lee,\n",
      "    박길동: 0000, Gil-Dong Park\n",
      "\n"
     ]
    }
   ],
   "source": [
    "\n",
    "print(b)"
   ]
  },
  {
   "cell_type": "code",
   "execution_count": 78,
   "id": "e1ba0e08",
   "metadata": {},
   "outputs": [
    {
     "name": "stdout",
     "output_type": "stream",
     "text": [
      "홍길동이길동박길동\n"
     ]
    }
   ],
   "source": [
    "pattern = re.compile('[^가-힣]')\n",
    "result = re.sub(pattern,'',b)\n",
    "print(result)"
   ]
  },
  {
   "cell_type": "code",
   "execution_count": 79,
   "id": "be584170",
   "metadata": {},
   "outputs": [
    {
     "name": "stdout",
     "output_type": "stream",
     "text": [
      "\n",
      "        <div class=\"select_div\">\n",
      "            <span data-i18n=\"footer.relationSites\">연관사이트</span>\n",
      "            <ul>\n",
      "\n",
      "\n",
      "            </ul>\n",
      "        </div>\n",
      "        <ul class=\"list_sns\">\n",
      "            <li><a href=\"https://www.facebook.com/ekoreatech\" target=\"_blank\"><img src=\"/res/lms/img/common/btn_footer_sns1.png\" alt=\"페이스북\"></a></li>\n",
      "            <li><a href=\"https://blog.naver.com/e-koreatech\" target=\"_blank\"><img src=\"/res/lms/img/common/btn_footer_sns2.png\" alt=\"블로그\"></a></li>\n",
      "            <li><a href=\"https://www.youtube.com/user/koreatecholei\" target=\"_blank\"><img src=\"/res/lms/img/common/btn_footer_sns3.png\" alt=\"유트브\"></a></li>\n",
      "        </ul>\n",
      "\n"
     ]
    }
   ],
   "source": [
    "print(c)"
   ]
  },
  {
   "cell_type": "code",
   "execution_count": 80,
   "id": "85375879",
   "metadata": {},
   "outputs": [
    {
     "name": "stdout",
     "output_type": "stream",
     "text": [
      "<re.Match object; span=(205, 248), match='https://www.facebook.com/ekoreatech\" target'>\n",
      "https://www.facebook.com/ekoreatech\" target\n"
     ]
    }
   ],
   "source": [
    "pattern = re.compile('https://.*\" target')\n",
    "result = pattern.search(c)\n",
    "print(result)\n",
    "print(result.group())\n"
   ]
  },
  {
   "cell_type": "code",
   "execution_count": 82,
   "id": "bcd385f2",
   "metadata": {},
   "outputs": [
    {
     "name": "stdout",
     "output_type": "stream",
     "text": [
      "https://www.facebook.com/ekoreatech\n"
     ]
    }
   ],
   "source": [
    "pattern = re.compile('[a-z:/.]*')\n",
    "result = pattern.search(result.group())\n",
    "print(result.group())"
   ]
  },
  {
   "cell_type": "code",
   "execution_count": 1,
   "id": "0d94c243",
   "metadata": {},
   "outputs": [
    {
     "name": "stdout",
     "output_type": "stream",
     "text": [
      "['movieId', 'title', 'genres']\n",
      "['1', 'Toy Story (1995)', 'Adventure|Animation|Children|Comedy|Fantasy']\n",
      "['2', 'Jumanji (1995)', 'Adventure|Children|Fantasy']\n",
      "['3', 'Grumpier Old Men (1995)', 'Comedy|Romance']\n",
      "['4', 'Waiting to Exhale (1995)', 'Comedy|Drama|Romance']\n"
     ]
    }
   ],
   "source": [
    "import csv\n",
    "\n",
    "f = open('ml-latest-small/movies.csv', 'r')\n",
    "data = csv.reader(f)\n",
    "print(next(data))\n",
    "print(next(data))\n",
    "print(next(data))\n",
    "print(next(data))\n",
    "print(next(data))\n",
    "f.close()"
   ]
  },
  {
   "cell_type": "code",
   "execution_count": 2,
   "id": "6a934337",
   "metadata": {},
   "outputs": [
    {
     "name": "stdout",
     "output_type": "stream",
     "text": [
      "전체 개수 >>>>>>  22084\n"
     ]
    }
   ],
   "source": [
    "f = open('ml-latest-small/movies.csv', 'r', encoding='utf-8')\n",
    "data = csv.reader(f)\n",
    "next(data)\n",
    "\n",
    "result = []\n",
    "for i in data :\n",
    "    result.extend(i[2].split('|'))\n",
    "    \n",
    "# print(result)\n",
    "print('전체 개수 >>>>>> ',len(result))"
   ]
  },
  {
   "cell_type": "code",
   "execution_count": 4,
   "id": "2f58e2bc",
   "metadata": {},
   "outputs": [
    {
     "name": "stdout",
     "output_type": "stream",
     "text": [
      "{'Thriller', '(no genres listed)', 'War', 'Musical', 'Comedy', 'Romance', 'IMAX', 'Children', 'Action', 'Film-Noir', 'Fantasy', 'Horror', 'Documentary', 'Animation', 'Western', 'Sci-Fi', 'Mystery', 'Drama', 'Crime', 'Adventure'}\n",
      "-----------------------------------------\n",
      "['Thriller', '(no genres listed)', 'War', 'Musical', 'Comedy', 'Romance', 'IMAX', 'Children', 'Action', 'Film-Noir', 'Fantasy', 'Horror', 'Documentary', 'Animation', 'Western', 'Sci-Fi', 'Mystery', 'Drama', 'Crime', 'Adventure']\n",
      "20\n"
     ]
    }
   ],
   "source": [
    "temp_set = set(result)\n",
    "print(temp_set)\n",
    "\n",
    "print('-----------------------------------------')\n",
    "\n",
    "genres = list(temp_set)\n",
    "print(genres)\n",
    "print(len(genres))"
   ]
  },
  {
   "cell_type": "code",
   "execution_count": 8,
   "id": "29cc7b0a",
   "metadata": {},
   "outputs": [
    {
     "name": "stdout",
     "output_type": "stream",
     "text": [
      "{'Adventure': 1263, 'Animation': 611, 'Children': 664, 'Comedy': 3756, 'Fantasy': 779, 'Romance': 1596, 'Drama': 4361, 'Action': 1828, 'Crime': 1199, 'Thriller': 1894, 'Horror': 978, 'Mystery': 573, 'Sci-Fi': 980, 'War': 382, 'Musical': 334, 'Documentary': 440, 'IMAX': 158, 'Western': 167, 'Film-Noir': 87, '(no genres listed)': 34}\n"
     ]
    }
   ],
   "source": [
    "count = {}\n",
    "\n",
    "for i in result :\n",
    "    if count.get(i) :\n",
    "        count[i] += 1\n",
    "    else :\n",
    "        count[i] = 1\n",
    "\n",
    "print(count)"
   ]
  },
  {
   "cell_type": "code",
   "execution_count": null,
   "id": "d286628d",
   "metadata": {},
   "outputs": [],
   "source": []
  },
  {
   "cell_type": "code",
   "execution_count": null,
   "id": "212d04e0",
   "metadata": {},
   "outputs": [],
   "source": []
  },
  {
   "cell_type": "code",
   "execution_count": null,
   "id": "4158ff20",
   "metadata": {},
   "outputs": [],
   "source": []
  },
  {
   "cell_type": "code",
   "execution_count": null,
   "id": "1364a89c",
   "metadata": {},
   "outputs": [],
   "source": []
  },
  {
   "cell_type": "code",
   "execution_count": null,
   "id": "688c6472",
   "metadata": {},
   "outputs": [],
   "source": []
  },
  {
   "cell_type": "code",
   "execution_count": null,
   "id": "c3248da8",
   "metadata": {},
   "outputs": [],
   "source": []
  },
  {
   "cell_type": "code",
   "execution_count": null,
   "id": "44679cd7",
   "metadata": {},
   "outputs": [],
   "source": []
  },
  {
   "cell_type": "code",
   "execution_count": null,
   "id": "108649a7",
   "metadata": {},
   "outputs": [],
   "source": []
  },
  {
   "cell_type": "code",
   "execution_count": null,
   "id": "d0c991cd",
   "metadata": {},
   "outputs": [],
   "source": []
  },
  {
   "cell_type": "code",
   "execution_count": null,
   "id": "560dd132",
   "metadata": {},
   "outputs": [],
   "source": []
  },
  {
   "cell_type": "code",
   "execution_count": null,
   "id": "45ce2924",
   "metadata": {},
   "outputs": [],
   "source": []
  },
  {
   "cell_type": "code",
   "execution_count": null,
   "id": "c0cae866",
   "metadata": {},
   "outputs": [],
   "source": []
  },
  {
   "cell_type": "code",
   "execution_count": null,
   "id": "d88996e9",
   "metadata": {},
   "outputs": [],
   "source": []
  },
  {
   "cell_type": "code",
   "execution_count": null,
   "id": "fb86ef0c",
   "metadata": {},
   "outputs": [],
   "source": []
  },
  {
   "cell_type": "code",
   "execution_count": null,
   "id": "10611cad",
   "metadata": {},
   "outputs": [],
   "source": []
  },
  {
   "cell_type": "code",
   "execution_count": null,
   "id": "51872721",
   "metadata": {},
   "outputs": [],
   "source": []
  },
  {
   "cell_type": "code",
   "execution_count": null,
   "id": "f94cd045",
   "metadata": {},
   "outputs": [],
   "source": []
  },
  {
   "cell_type": "code",
   "execution_count": null,
   "id": "1954a24c",
   "metadata": {},
   "outputs": [],
   "source": []
  },
  {
   "cell_type": "code",
   "execution_count": null,
   "id": "f8b342a7",
   "metadata": {},
   "outputs": [],
   "source": []
  },
  {
   "cell_type": "code",
   "execution_count": null,
   "id": "4f4b7715",
   "metadata": {},
   "outputs": [],
   "source": []
  },
  {
   "cell_type": "code",
   "execution_count": null,
   "id": "6cc66374",
   "metadata": {},
   "outputs": [],
   "source": []
  },
  {
   "cell_type": "code",
   "execution_count": null,
   "id": "7aabd782",
   "metadata": {},
   "outputs": [],
   "source": []
  },
  {
   "cell_type": "code",
   "execution_count": null,
   "id": "76de2326",
   "metadata": {},
   "outputs": [],
   "source": []
  }
 ],
 "metadata": {
  "kernelspec": {
   "display_name": "Python 3 (ipykernel)",
   "language": "python",
   "name": "python3"
  },
  "language_info": {
   "codemirror_mode": {
    "name": "ipython",
    "version": 3
   },
   "file_extension": ".py",
   "mimetype": "text/x-python",
   "name": "python",
   "nbconvert_exporter": "python",
   "pygments_lexer": "ipython3",
   "version": "3.9.13"
  }
 },
 "nbformat": 4,
 "nbformat_minor": 5
}
