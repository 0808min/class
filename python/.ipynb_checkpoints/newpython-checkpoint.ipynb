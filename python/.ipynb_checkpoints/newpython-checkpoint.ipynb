{
 "cells": [
  {
   "cell_type": "code",
   "execution_count": 1,
   "id": "cfe93576",
   "metadata": {},
   "outputs": [],
   "source": [
    "# 주석은 #을 쓴다\n",
    "# 숫자, 문자, bool, 리스트, 튜플\n",
    "\n",
    "# type() => 데이터의 타입을 확인하는 함수\n"
   ]
  },
  {
   "cell_type": "code",
   "execution_count": 2,
   "id": "1c450369",
   "metadata": {},
   "outputs": [
    {
     "name": "stdout",
     "output_type": "stream",
     "text": [
      "<class 'str'>\n"
     ]
    }
   ],
   "source": [
    "print(type('Hello'))"
   ]
  },
  {
   "cell_type": "code",
   "execution_count": 3,
   "id": "705666f2",
   "metadata": {},
   "outputs": [
    {
     "name": "stdout",
     "output_type": "stream",
     "text": [
      "<class 'int'>\n"
     ]
    }
   ],
   "source": [
    "print(type(100))"
   ]
  },
  {
   "cell_type": "code",
   "execution_count": 4,
   "id": "a60d40db",
   "metadata": {},
   "outputs": [
    {
     "name": "stdout",
     "output_type": "stream",
     "text": [
      "<class 'float'>\n"
     ]
    }
   ],
   "source": [
    "print(type(3.14))"
   ]
  },
  {
   "cell_type": "code",
   "execution_count": 6,
   "id": "33d14f08",
   "metadata": {},
   "outputs": [],
   "source": [
    "# str : 문자열의 생성은 \"\" '' 로 만든다.\n",
    "# \\문자를 통해서 \" \\\" \\' \\\\ \\t \\m\""
   ]
  },
  {
   "cell_type": "code",
   "execution_count": 8,
   "id": "670ca6fd",
   "metadata": {},
   "outputs": [
    {
     "name": "stdout",
     "output_type": "stream",
     "text": [
      "\"안녕\" \t 하'세'요 \n",
      "\n",
      "안녕하세요\n"
     ]
    }
   ],
   "source": [
    "print(\"\\\"안녕\\\" \\t 하\\'세\\'요 \\n\")\n",
    "print(\"안녕하세요\")"
   ]
  },
  {
   "cell_type": "code",
   "execution_count": 9,
   "id": "2aef83a6",
   "metadata": {},
   "outputs": [
    {
     "name": "stdout",
     "output_type": "stream",
     "text": [
      "안녕하세요\n",
      "저는 손흥민입니다\n",
      "영국에서 축구를 합니다\n",
      "경기에서 골을 넣고 싶습니다\n"
     ]
    }
   ],
   "source": [
    "print(\"\"\"안녕하세요\n",
    "저는 손흥민입니다\n",
    "영국에서 축구를 합니다\n",
    "경기에서 골을 넣고 싶습니다\"\"\")"
   ]
  },
  {
   "cell_type": "code",
   "execution_count": 12,
   "id": "b874f232",
   "metadata": {},
   "outputs": [
    {
     "name": "stdout",
     "output_type": "stream",
     "text": [
      "안녕하세요\n",
      "저는 손흥민입니다 영국에서 축구를 합니다\n",
      "경기에서 골을 넣고 싶습니다\n"
     ]
    }
   ],
   "source": [
    "print(\"\"\"\\\n",
    "안녕하세요\n",
    "저는 손흥민입니다 \\\n",
    "영국에서 축구를 합니다\n",
    "경기에서 골을 넣고 싶습니다\\\n",
    "\"\"\")"
   ]
  },
  {
   "cell_type": "code",
   "execution_count": null,
   "id": "2218f400",
   "metadata": {},
   "outputs": [],
   "source": [
    "# 문자열 + 문자열 => 문자열\n",
    "# 문자열 + 숫자 => 오류"
   ]
  },
  {
   "cell_type": "code",
   "execution_count": 13,
   "id": "6c9ec285",
   "metadata": {},
   "outputs": [
    {
     "name": "stdout",
     "output_type": "stream",
     "text": [
      "안녕하세요\n"
     ]
    }
   ],
   "source": [
    "print('안녕' + '하세요')"
   ]
  },
  {
   "cell_type": "code",
   "execution_count": 16,
   "id": "2e8c83a6",
   "metadata": {},
   "outputs": [
    {
     "ename": "TypeError",
     "evalue": "can only concatenate str (not \"int\") to str",
     "output_type": "error",
     "traceback": [
      "\u001b[1;31m---------------------------------------------------------------------------\u001b[0m",
      "\u001b[1;31mTypeError\u001b[0m                                 Traceback (most recent call last)",
      "\u001b[1;32m~\\AppData\\Local\\Temp\\ipykernel_11592\\1656375209.py\u001b[0m in \u001b[0;36m<module>\u001b[1;34m\u001b[0m\n\u001b[1;32m----> 1\u001b[1;33m \u001b[0mprint\u001b[0m\u001b[1;33m(\u001b[0m\u001b[1;34m'안녕'\u001b[0m \u001b[1;33m+\u001b[0m \u001b[1;36m10\u001b[0m\u001b[1;33m)\u001b[0m\u001b[1;33m\u001b[0m\u001b[1;33m\u001b[0m\u001b[0m\n\u001b[0m",
      "\u001b[1;31mTypeError\u001b[0m: can only concatenate str (not \"int\") to str"
     ]
    }
   ],
   "source": [
    "print('안녕' + 10)"
   ]
  },
  {
   "cell_type": "code",
   "execution_count": 17,
   "id": "c27b8ed7",
   "metadata": {},
   "outputs": [
    {
     "name": "stdout",
     "output_type": "stream",
     "text": [
      "안녕안녕안녕\n"
     ]
    }
   ],
   "source": [
    "print('안녕' *3)"
   ]
  },
  {
   "cell_type": "code",
   "execution_count": 18,
   "id": "93087af9",
   "metadata": {},
   "outputs": [],
   "source": [
    "# str => 문자들의 집합\n",
    "# 인덱싱 사용 => 배열의 인덱스처럼 사용\n",
    "#인덱스 : 0 ~ N-1"
   ]
  },
  {
   "cell_type": "code",
   "execution_count": 19,
   "id": "46c176d9",
   "metadata": {},
   "outputs": [
    {
     "name": "stdout",
     "output_type": "stream",
     "text": [
      "안\n",
      "녕\n",
      "하\n",
      "세\n",
      "요\n"
     ]
    }
   ],
   "source": [
    "print('안녕하세요' [0])\n",
    "print('안녕하세요' [1])\n",
    "print('안녕하세요' [2])\n",
    "print('안녕하세요' [3])\n",
    "print('안녕하세요' [4])"
   ]
  },
  {
   "cell_type": "code",
   "execution_count": 20,
   "id": "2df44c8c",
   "metadata": {},
   "outputs": [
    {
     "ename": "IndexError",
     "evalue": "string index out of range",
     "output_type": "error",
     "traceback": [
      "\u001b[1;31m---------------------------------------------------------------------------\u001b[0m",
      "\u001b[1;31mIndexError\u001b[0m                                Traceback (most recent call last)",
      "\u001b[1;32m~\\AppData\\Local\\Temp\\ipykernel_11592\\34968423.py\u001b[0m in \u001b[0;36m<module>\u001b[1;34m\u001b[0m\n\u001b[1;32m----> 1\u001b[1;33m \u001b[0mprint\u001b[0m\u001b[1;33m(\u001b[0m\u001b[1;34m'안녕하세요'\u001b[0m \u001b[1;33m[\u001b[0m\u001b[1;36m5\u001b[0m\u001b[1;33m]\u001b[0m\u001b[1;33m)\u001b[0m\u001b[1;33m\u001b[0m\u001b[1;33m\u001b[0m\u001b[0m\n\u001b[0m",
      "\u001b[1;31mIndexError\u001b[0m: string index out of range"
     ]
    }
   ],
   "source": [
    "print('안녕하세요' [5])"
   ]
  },
  {
   "cell_type": "code",
   "execution_count": 22,
   "id": "9a064f85",
   "metadata": {},
   "outputs": [
    {
     "name": "stdout",
     "output_type": "stream",
     "text": [
      "요\n",
      "세\n",
      "하\n",
      "녕\n",
      "안\n"
     ]
    }
   ],
   "source": [
    "print('안녕하세요' [-1])\n",
    "print('안녕하세요' [-2])\n",
    "print('안녕하세요' [-3])\n",
    "print('안녕하세요' [-4])\n",
    "print('안녕하세요' [-5])"
   ]
  },
  {
   "cell_type": "code",
   "execution_count": null,
   "id": "cbe6e8c5",
   "metadata": {},
   "outputs": [],
   "source": [
    "# [] => 스라이싱 : 범위 선택\n",
    "# [ 시작 인덱스 : 종료 위치 ] => 시작 인덱스 ~ 종료위치 -1\n",
    "# => [1 : 4] -> 1, 2, 3, \n",
    "# [ 시작 인덱스 : 종료 위치 ] => 시작 인덱스 ~ 종료위치 -1\n",
    "# 시작 인덱스 생략경우 : [ :4] 0부터 4까지\n",
    "# 종료 인덱스 생략경우 : [2: ] 2부터 끝까지"
   ]
  },
  {
   "cell_type": "code",
   "execution_count": 23,
   "id": "2117abda",
   "metadata": {},
   "outputs": [
    {
     "name": "stdout",
     "output_type": "stream",
     "text": [
      "녕하세\n"
     ]
    }
   ],
   "source": [
    "print('안녕하세요' [1:4])"
   ]
  },
  {
   "cell_type": "code",
   "execution_count": 25,
   "id": "5ca03f48",
   "metadata": {},
   "outputs": [
    {
     "name": "stdout",
     "output_type": "stream",
     "text": [
      "안녕하세요\n",
      "하세요\n"
     ]
    }
   ],
   "source": [
    "print('안녕하세요' [:5])\n",
    "print('안녕하세요' [2:])"
   ]
  },
  {
   "cell_type": "code",
   "execution_count": null,
   "id": "6cd2bdde",
   "metadata": {},
   "outputs": [],
   "source": [
    "# 숫자 타입\n",
    "# 정수 INT, 실수 float\n",
    "# 사칙연산 => +, -, *, /, % \n",
    "# 정수 나누기 : //\n",
    "# 제곱 연산 : **"
   ]
  },
  {
   "cell_type": "code",
   "execution_count": 30,
   "id": "ff3812d9",
   "metadata": {},
   "outputs": [
    {
     "name": "stdout",
     "output_type": "stream",
     "text": [
      "3\n",
      "3.3333333333333335\n",
      "3\n",
      "9\n"
     ]
    }
   ],
   "source": [
    "print(1+2)\n",
    "print(10/3)\n",
    "# 정수결과만 나오는 나누기 연산\n",
    "print(10//3)\n",
    "# 제곱 \n",
    "print(3**2)"
   ]
  },
  {
   "cell_type": "code",
   "execution_count": null,
   "id": "45399b95",
   "metadata": {},
   "outputs": [],
   "source": [
    "# 변수의 사용\n",
    "# 변수 = 데이터\n",
    "# 복합대입 연산자 사용가능"
   ]
  },
  {
   "cell_type": "code",
   "execution_count": 31,
   "id": "7bc2c9cc",
   "metadata": {},
   "outputs": [],
   "source": [
    "pi = 3.14\n",
    "r = 2"
   ]
  },
  {
   "cell_type": "code",
   "execution_count": 33,
   "id": "8945076a",
   "metadata": {},
   "outputs": [
    {
     "name": "stdout",
     "output_type": "stream",
     "text": [
      "원주율 :  3.14 반지름 :  2\n"
     ]
    }
   ],
   "source": [
    "print('원주율 : ',pi,'반지름 : ',r)"
   ]
  },
  {
   "cell_type": "code",
   "execution_count": null,
   "id": "eb2b6bb9",
   "metadata": {},
   "outputs": [],
   "source": [
    "# 캐스팅 함수\n",
    "# 문자열 -> 정수 : int()\n",
    "# 문자열 -> 실수 : float()\n",
    "# 숫자 -> 문자열 : str()"
   ]
  },
  {
   "cell_type": "code",
   "execution_count": null,
   "id": "3e36b19e",
   "metadata": {},
   "outputs": [],
   "source": [
    "# 문자열을 다루는 함수\n",
    "# format()\n",
    "# upper() lower()\n",
    "# strip() lstrip() rstrip()\n",
    "# find()\n",
    "# split()\n",
    "# is000\n",
    "# in 연산자"
   ]
  },
  {
   "cell_type": "code",
   "execution_count": 38,
   "id": "ea32b0d1",
   "metadata": {},
   "outputs": [
    {
     "name": "stdout",
     "output_type": "stream",
     "text": [
      "100 만원\n",
      "1 string True\n"
     ]
    }
   ],
   "source": [
    "# format : 문자열 포맷팅\n",
    "format_a = '{} 만원'.format(100)\n",
    "print(format_a)\n",
    "format_b = '{} {} {}'.format(1, 'string', True) \n",
    "print(format_b)"
   ]
  },
  {
   "cell_type": "code",
   "execution_count": 42,
   "id": "c6c7bab4",
   "metadata": {},
   "outputs": [
    {
     "name": "stdout",
     "output_type": "stream",
     "text": [
      "###   String   ###\n",
      "###String###\n",
      "###String   ###\n",
      "###   String###\n"
     ]
    }
   ],
   "source": [
    "# strip() lstrip() rstrip()\n",
    "str1 = '   String   '\n",
    "print('###'+str1+'###')\n",
    "print('###'+str1.strip()+'###')\n",
    "print('###'+str1.lstrip()+'###')\n",
    "print('###'+str1.rstrip()+'###')"
   ]
  },
  {
   "cell_type": "code",
   "execution_count": 44,
   "id": "fe577326",
   "metadata": {},
   "outputs": [
    {
     "name": "stdout",
     "output_type": "stream",
     "text": [
      "2\n"
     ]
    }
   ],
   "source": [
    "# find() : 문자열을 포함하는 위치 인덱스 반환\n",
    "result1 = '안녕하세요'.find('하')\n",
    "print(result1)"
   ]
  },
  {
   "cell_type": "code",
   "execution_count": 45,
   "id": "f3184188",
   "metadata": {},
   "outputs": [
    {
     "name": "stdout",
     "output_type": "stream",
     "text": [
      "<class 'list'> ['1', '2', '3', '4', '5']\n"
     ]
    }
   ],
   "source": [
    "# split() : 문자열을 첨자로 나누고 각 나눠진 결과를 리스트로 반환\n",
    "list_1 = '1 2 3 4 5'.split(' ')\n",
    "print(type(list_1), list_1)"
   ]
  },
  {
   "cell_type": "code",
   "execution_count": 47,
   "id": "5545f446",
   "metadata": {},
   "outputs": [
    {
     "name": "stdout",
     "output_type": "stream",
     "text": [
      "False\n",
      "False\n"
     ]
    }
   ],
   "source": [
    "# is000 : 문자열의 구성 파악\n",
    "print('Test123!$'.isalnum())\n",
    "print('1000원'.isdigit())"
   ]
  },
  {
   "cell_type": "code",
   "execution_count": 48,
   "id": "30c9ec4e",
   "metadata": {},
   "outputs": [
    {
     "name": "stdout",
     "output_type": "stream",
     "text": [
      "True\n",
      "False\n"
     ]
    }
   ],
   "source": [
    "# in 연산자\n",
    "print('안녕' in '안녕하세요')\n",
    "print('바이' in '안녕하세요')"
   ]
  },
  {
   "cell_type": "code",
   "execution_count": 51,
   "id": "42bd1d50",
   "metadata": {},
   "outputs": [
    {
     "name": "stdout",
     "output_type": "stream",
     "text": [
      "정수 입력 >>> -10\n",
      "음수\n"
     ]
    }
   ],
   "source": [
    "# 흐름제어\n",
    "# if\n",
    "\n",
    "# input함수는 문자열을 반환\n",
    "num1 = input('정수 입력 >>> ') \n",
    "num2 = int(num1)\n",
    "\n",
    "if num2 > 0 :\n",
    "    print('양수')\n",
    "if num2 < 0 :\n",
    "    print('음수')\n",
    "if num2 == 0 :\n",
    "    print('0')"
   ]
  },
  {
   "cell_type": "code",
   "execution_count": 54,
   "id": "b69f686d",
   "metadata": {},
   "outputs": [
    {
     "name": "stdout",
     "output_type": "stream",
     "text": [
      "정수 입력 >>> -20\n",
      "음수\n"
     ]
    }
   ],
   "source": [
    "# 흐름제어\n",
    "# if\n",
    "\n",
    "# input함수는 문자열을 반환\n",
    "num1 = input('정수 입력 >>> ') \n",
    "num2 = int(num1)\n",
    "\n",
    "if num2 > 0 :\n",
    "    print('양수')\n",
    "elif num2 < 0 :\n",
    "    print('음수')\n",
    "else :\n",
    "    print('0')"
   ]
  },
  {
   "cell_type": "code",
   "execution_count": 57,
   "id": "d32bb860",
   "metadata": {},
   "outputs": [
    {
     "name": "stdout",
     "output_type": "stream",
     "text": [
      "비어있는 리스트는 False\n"
     ]
    }
   ],
   "source": [
    "# 0은 False\n",
    "# 공백 문자열은 False\n",
    "# 비어있는 리스트는 False\n",
    "# None : 함수에서 반환값이 없을 때 반환되는 값 => False\n",
    "\n",
    "if [] :\n",
    "    print('비어있는 리스트는 True')\n",
    "else :\n",
    "    print('비어있는 리스트는 False')"
   ]
  },
  {
   "cell_type": "code",
   "execution_count": 61,
   "id": "025949f1",
   "metadata": {},
   "outputs": [],
   "source": [
    "# pass 키워드\n",
    "\n",
    "num3 = 10\n",
    "\n",
    "if num3 > 0 :\n",
    "    pass\n",
    "else :\n",
    "    pass\n"
   ]
  },
  {
   "cell_type": "code",
   "execution_count": 69,
   "id": "e00a6ce7",
   "metadata": {},
   "outputs": [
    {
     "name": "stdout",
     "output_type": "stream",
     "text": [
      "55\n",
      "문자열 열 문자\n",
      "True\n",
      "참\n",
      "[10, 900, 55, '문자열', False, False]\n"
     ]
    }
   ],
   "source": [
    "# list 자료형 : 배열과 비슷한 형태, 집합과 같이 데이터들을 묶어서 사용\n",
    "# 데이터들의 타입은 일치하지 않아도 된다\n",
    "# [] 사용, 인덱스값을 통해서 참조\n",
    "\n",
    "list_temp = [10, 900, 55, '문자열', True, False]\n",
    "print(list_temp[2])\n",
    "print(list_temp[3], list_temp[3][2], list_temp[3][:2])\n",
    "print(list_temp[-2])\n",
    "\n",
    "if list_temp[-2] :\n",
    "    print('참')\n",
    "    list_temp[-2]=False\n",
    "    \n",
    "print(list_temp)\n",
    "\n",
    "# print(list_temp[12])"
   ]
  },
  {
   "cell_type": "code",
   "execution_count": 71,
   "id": "19c4b70a",
   "metadata": {},
   "outputs": [],
   "source": [
    "# list 연산 : +, *"
   ]
  },
  {
   "cell_type": "code",
   "execution_count": 78,
   "id": "6d3866c6",
   "metadata": {},
   "outputs": [
    {
     "name": "stdout",
     "output_type": "stream",
     "text": [
      "[1, 2, 3, 4, 5, 6]\n",
      "[1, 2, 3]\n",
      "[4, 5, 6]\n",
      "list_a 리스트 요소의 개수  3\n",
      "요소 추가 [1, 2, 3, 4]\n",
      "0번지에 10을 추가  [10, 1, 2, 3, 4]\n",
      "원본 리스트에 데이터를 추가  [4, 5, 6, 103, 500, 873]\n"
     ]
    }
   ],
   "source": [
    "# + 연산 : 리스트의 연결 => 새로운 리스트 생성\n",
    "list_a = [1,2,3]\n",
    "list_b = [4,5,6]\n",
    "\n",
    "print(list_a+list_b)\n",
    "print(list_a)\n",
    "print(list_b)\n",
    "print('list_a 리스트 요소의 개수 ', len(list_a))\n",
    "\n",
    "list_a.append(4)\n",
    "print('요소 추가', list_a)\n",
    "\n",
    "list_a.insert(0, 10)\n",
    "print('0번지에 10을 추가 ', list_a)\n",
    "\n",
    "list_b.extend([103,500,873])\n",
    "print('원본 리스트에 데이터를 추가 ', list_b)\n",
    "\n",
    "del list_b[4]\n",
    "print('삭제 ', list_b)"
   ]
  },
  {
   "cell_type": "code",
   "execution_count": null,
   "id": "0be39efa",
   "metadata": {},
   "outputs": [],
   "source": []
  },
  {
   "cell_type": "code",
   "execution_count": null,
   "id": "028832b4",
   "metadata": {},
   "outputs": [],
   "source": [
    "# 함수 : len, extend(), appand(), insert(), del(), remove(), clear()"
   ]
  },
  {
   "cell_type": "code",
   "execution_count": null,
   "id": "d6899af2",
   "metadata": {},
   "outputs": [],
   "source": []
  },
  {
   "cell_type": "code",
   "execution_count": null,
   "id": "e24a81cc",
   "metadata": {},
   "outputs": [],
   "source": []
  },
  {
   "cell_type": "code",
   "execution_count": null,
   "id": "ee8bc915",
   "metadata": {},
   "outputs": [],
   "source": []
  },
  {
   "cell_type": "code",
   "execution_count": null,
   "id": "a523a060",
   "metadata": {},
   "outputs": [],
   "source": []
  },
  {
   "cell_type": "code",
   "execution_count": null,
   "id": "e5ea5dd6",
   "metadata": {},
   "outputs": [],
   "source": []
  },
  {
   "cell_type": "code",
   "execution_count": null,
   "id": "c561d471",
   "metadata": {},
   "outputs": [],
   "source": []
  },
  {
   "cell_type": "code",
   "execution_count": null,
   "id": "39192cb9",
   "metadata": {},
   "outputs": [],
   "source": []
  },
  {
   "cell_type": "code",
   "execution_count": null,
   "id": "16bf1e5c",
   "metadata": {},
   "outputs": [],
   "source": []
  },
  {
   "cell_type": "code",
   "execution_count": null,
   "id": "150dfb6c",
   "metadata": {},
   "outputs": [],
   "source": []
  },
  {
   "cell_type": "code",
   "execution_count": null,
   "id": "dabe249f",
   "metadata": {},
   "outputs": [],
   "source": []
  },
  {
   "cell_type": "code",
   "execution_count": null,
   "id": "7f1f323f",
   "metadata": {},
   "outputs": [],
   "source": []
  },
  {
   "cell_type": "code",
   "execution_count": null,
   "id": "e4ab4900",
   "metadata": {},
   "outputs": [],
   "source": []
  },
  {
   "cell_type": "code",
   "execution_count": null,
   "id": "518a9d72",
   "metadata": {},
   "outputs": [],
   "source": []
  },
  {
   "cell_type": "code",
   "execution_count": null,
   "id": "df3da209",
   "metadata": {},
   "outputs": [],
   "source": []
  }
 ],
 "metadata": {
  "kernelspec": {
   "display_name": "Python 3 (ipykernel)",
   "language": "python",
   "name": "python3"
  },
  "language_info": {
   "codemirror_mode": {
    "name": "ipython",
    "version": 3
   },
   "file_extension": ".py",
   "mimetype": "text/x-python",
   "name": "python",
   "nbconvert_exporter": "python",
   "pygments_lexer": "ipython3",
   "version": "3.9.13"
  }
 },
 "nbformat": 4,
 "nbformat_minor": 5
}
